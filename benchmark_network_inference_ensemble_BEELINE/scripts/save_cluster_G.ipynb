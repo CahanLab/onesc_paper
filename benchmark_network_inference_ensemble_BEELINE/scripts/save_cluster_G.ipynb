{
 "cells": [
  {
   "cell_type": "code",
   "execution_count": 1,
   "id": "9b4ddde6-8add-4ea3-b570-ee72e2a6fe66",
   "metadata": {},
   "outputs": [
    {
     "name": "stderr",
     "output_type": "stream",
     "text": [
      "/opt/miniconda3/envs/OneCC_dev/lib/python3.9/site-packages/tqdm/auto.py:22: TqdmWarning: IProgress not found. Please update jupyter and ipywidgets. See https://ipywidgets.readthedocs.io/en/stable/user_install.html\n",
      "  from .autonotebook import tqdm as notebook_tqdm\n"
     ]
    }
   ],
   "source": [
    "import scanpy as sc\n",
    "import pandas as pd\n",
    "import numpy as np \n",
    "import pickle \n",
    "import networkx as nx\n",
    "import onesc\n",
    "import matplotlib.pyplot as plt"
   ]
  },
  {
   "cell_type": "code",
   "execution_count": 7,
   "id": "355392d1",
   "metadata": {},
   "outputs": [],
   "source": [
    "import os"
   ]
  },
  {
   "cell_type": "code",
   "execution_count": 2,
   "id": "0ad758d6-b27f-4c99-8275-f4179ff5366c",
   "metadata": {},
   "outputs": [],
   "source": [
    "plt.style.use('default')"
   ]
  },
  {
   "cell_type": "code",
   "execution_count": 3,
   "id": "13f8d393-4d81-4ddc-80bc-d1afa36ec4bc",
   "metadata": {},
   "outputs": [],
   "source": [
    "sc.set_figure_params(dpi_save = 600, fontsize = 18)"
   ]
  },
  {
   "cell_type": "code",
   "execution_count": 4,
   "id": "f428c84d-4ef2-4a4a-85da-d503665b863e",
   "metadata": {},
   "outputs": [],
   "source": [
    "# look at dyn-BF\n",
    "output_path = '../Beeline_benchmark/run_OneSC/dyn-BF'\n",
    "sc.settings.figdir = output_path # set the figure output path\n",
    "adata = sc.read_h5ad(\"../Beeline_benchmark/run_OneSC/dyn-BF/redefined_adata.h5ad\")\n",
    "train_exp = adata.to_df().T\n",
    "samp_tab = adata.obs\n",
    "pt_col = 'pseudoTime'\n",
    "cluster_col = 'leiden'"
   ]
  },
  {
   "cell_type": "code",
   "execution_count": 9,
   "id": "1656573c-eb2c-403f-99e8-3fae2b45616c",
   "metadata": {},
   "outputs": [],
   "source": [
    "initial_clusters = ['9']\n",
    "end_clusters = ['6', '5']\n",
    "\n",
    "clusters_G = onesc.construct_cluster_network(train_exp, samp_tab, initial_clusters = initial_clusters, terminal_clusters = end_clusters, cluster_col = \"leiden\", pseudo_col = pt_col)\n",
    "pickle.dump(clusters_G, open(os.path.join(output_path, 'clusters_G.pickle'), 'wb'))"
   ]
  },
  {
   "cell_type": "code",
   "execution_count": 10,
   "id": "36f7e402-0c57-4562-b6ee-fdb2db3ea0fe",
   "metadata": {},
   "outputs": [],
   "source": [
    "# this is for dyn-BFC \n",
    "output_path = '../Beeline_benchmark/run_OneSC/dyn-BFC'\n",
    "sc.settings.figdir = output_path # set the figure output path\n",
    "adata = sc.read_h5ad(\"../Beeline_benchmark/run_OneSC/dyn-BFC/redefined_adata.h5ad\")\n",
    "train_exp = adata.to_df().T\n",
    "samp_tab = adata.obs"
   ]
  },
  {
   "cell_type": "code",
   "execution_count": 11,
   "id": "08ebb3e3-9f94-4f66-a4a2-9607c2451098",
   "metadata": {},
   "outputs": [],
   "source": [
    "initial_clusters = ['11']\n",
    "end_clusters = ['4']\n",
    "\n",
    "clusters_G = onesc.construct_cluster_network(train_exp, samp_tab, initial_clusters = initial_clusters, terminal_clusters = end_clusters, cluster_col = \"leiden\", pseudo_col = pt_col)\n",
    "pickle.dump(clusters_G, open(os.path.join(output_path, 'clusters_G.pickle'), 'wb'))"
   ]
  },
  {
   "cell_type": "code",
   "execution_count": 12,
   "id": "4d071a53-b1e3-4171-8891-f9ed643a499a",
   "metadata": {},
   "outputs": [],
   "source": [
    "# this is for dyn-CY \n",
    "output_path = '../Beeline_benchmark/run_OneSC/dyn-CY'\n",
    "sc.settings.figdir = output_path # set the figure output path\n",
    "adata = sc.read_h5ad(\"../Beeline_benchmark/run_OneSC/dyn-CY/redefined_adata.h5ad\")\n",
    "train_exp = adata.to_df().T\n",
    "samp_tab = adata.obs"
   ]
  },
  {
   "cell_type": "code",
   "execution_count": 13,
   "id": "37c70b82-8fc9-481f-8334-17856e7605df",
   "metadata": {},
   "outputs": [],
   "source": [
    "\n",
    "clusters_G = nx.DiGraph()\n",
    "clusters_G.add_edges_from([('0', '5')])\n",
    "clusters_G.add_edges_from([('5', '6')])\n",
    "clusters_G.add_edges_from([('6', '2')])\n",
    "clusters_G.add_edges_from([('2', '4')])\n",
    "clusters_G.add_edges_from([('4', '3')])\n",
    "clusters_G.add_edges_from([('3', '1')])\n",
    "clusters_G.add_edges_from([('1', '8')])\n",
    "clusters_G.add_edges_from([('8', '7')])\n",
    "clusters_G.add_edges_from([('7', '9')])\n",
    "pickle.dump(clusters_G, open(os.path.join(output_path, 'clusters_G.pickle'), 'wb'))"
   ]
  },
  {
   "cell_type": "code",
   "execution_count": 14,
   "id": "ab056f0d-1473-4e11-ab1b-adf67d64e1ea",
   "metadata": {},
   "outputs": [],
   "source": [
    "# this is for dyn-LI\n",
    "output_path = '../Beeline_benchmark/run_OneSC/dyn-LI'\n",
    "sc.settings.figdir = output_path # set the figure output path\n",
    "adata = sc.read_h5ad(\"../Beeline_benchmark/run_OneSC/dyn-LI/redefined_adata.h5ad\")\n",
    "train_exp = adata.to_df().T\n",
    "samp_tab = adata.obs"
   ]
  },
  {
   "cell_type": "code",
   "execution_count": 15,
   "id": "ca0bbc32-8ada-4d63-8112-3cd86e94a210",
   "metadata": {},
   "outputs": [],
   "source": [
    "initial_clusters = ['0']\n",
    "end_clusters = ['4']\n",
    "clusters_G = onesc.construct_cluster_network(train_exp, samp_tab, initial_clusters = initial_clusters, terminal_clusters = end_clusters, cluster_col = \"leiden\", pseudo_col = pt_col)\n",
    "pickle.dump(clusters_G, open(os.path.join(output_path, 'clusters_G.pickle'), 'wb'))"
   ]
  },
  {
   "cell_type": "code",
   "execution_count": 16,
   "id": "5fef7115-bf16-44be-a6fa-08dca0ef9661",
   "metadata": {},
   "outputs": [],
   "source": [
    "# this is for dyn-LL\n",
    "output_path = '../Beeline_benchmark/run_OneSC/dyn-LL'\n",
    "sc.settings.figdir = output_path # set the figure output path\n",
    "adata = sc.read_h5ad(\"../Beeline_benchmark/run_OneSC/dyn-LL/redefined_adata.h5ad\")\n",
    "train_exp = adata.to_df().T\n",
    "samp_tab = adata.obs"
   ]
  },
  {
   "cell_type": "code",
   "execution_count": 17,
   "id": "838044d5-fdd4-424e-ab77-ed93b9c5a004",
   "metadata": {},
   "outputs": [],
   "source": [
    "initial_clusters = ['10']\n",
    "end_clusters = ['2']\n",
    "\n",
    "clusters_G = onesc.construct_cluster_network(train_exp, samp_tab, initial_clusters = initial_clusters, terminal_clusters = end_clusters, cluster_col = \"leiden\", pseudo_col = pt_col)\n",
    "pickle.dump(clusters_G, open(os.path.join(output_path, 'clusters_G.pickle'), 'wb'))"
   ]
  },
  {
   "cell_type": "code",
   "execution_count": 18,
   "id": "6af0829a-1d95-405b-8c61-6c2adcadf6ab",
   "metadata": {},
   "outputs": [],
   "source": [
    "# this is for dyn-TF\n",
    "output_path = '../Beeline_benchmark/run_OneSC/dyn-TF'\n",
    "sc.settings.figdir = output_path # set the figure output path\n",
    "adata = sc.read_h5ad(\"../Beeline_benchmark/run_OneSC/dyn-TF/redefined_adata.h5ad\")\n",
    "train_exp = adata.to_df().T\n",
    "samp_tab = adata.obs"
   ]
  },
  {
   "cell_type": "code",
   "execution_count": 19,
   "id": "ed7d4d84-26ad-43ad-bd9f-b1bc30a28953",
   "metadata": {},
   "outputs": [],
   "source": [
    "initial_clusters = ['3']\n",
    "end_clusters = ['0', '1', '4']\n",
    "\n",
    "clusters_G = onesc.construct_cluster_network(train_exp, samp_tab, initial_clusters = initial_clusters, terminal_clusters = end_clusters, cluster_col = \"leiden\", pseudo_col = pt_col)\n",
    "pickle.dump(clusters_G, open(os.path.join(output_path, 'clusters_G.pickle'), 'wb'))"
   ]
  },
  {
   "cell_type": "code",
   "execution_count": 20,
   "id": "26347120-55ef-47e8-827c-c2037c4094ec",
   "metadata": {},
   "outputs": [],
   "source": [
    "# this is for GSD\n",
    "output_path = '../Beeline_benchmark/run_OneSC/GSD'\n",
    "sc.settings.figdir = output_path # set the figure output path\n",
    "adata = sc.read_h5ad(\"../Beeline_benchmark/run_OneSC/GSD/redefined_adata.h5ad\")\n",
    "train_exp = adata.to_df().T\n",
    "samp_tab = adata.obs"
   ]
  },
  {
   "cell_type": "code",
   "execution_count": 21,
   "id": "a7613e48-3d51-48bb-8aa0-0dc88946dba2",
   "metadata": {},
   "outputs": [],
   "source": [
    "initial_clusters = ['8']\n",
    "end_clusters = ['1', '0']\n",
    "\n",
    "clusters_G = onesc.construct_cluster_network(train_exp, samp_tab, initial_clusters = initial_clusters, terminal_clusters = end_clusters, cluster_col = \"leiden\", pseudo_col = pt_col)\n",
    "pickle.dump(clusters_G, open(os.path.join(output_path, 'clusters_G.pickle'), 'wb'))"
   ]
  },
  {
   "cell_type": "code",
   "execution_count": 22,
   "id": "3ab8efdf-5f02-4bef-ae7d-798b3e54fb33",
   "metadata": {},
   "outputs": [],
   "source": [
    "# this is for HSC\n",
    "output_path = '../Beeline_benchmark/run_OneSC/HSC'\n",
    "sc.settings.figdir = output_path # set the figure output path\n",
    "adata = sc.read_h5ad(\"../Beeline_benchmark/run_OneSC/HSC/redefined_adata.h5ad\")\n",
    "train_exp = adata.to_df().T\n",
    "samp_tab = adata.obs"
   ]
  },
  {
   "cell_type": "code",
   "execution_count": 23,
   "id": "15821a95-531f-4d28-8750-6febf1f6e347",
   "metadata": {},
   "outputs": [],
   "source": [
    "initial_clusters = ['3']\n",
    "end_clusters = ['1', '0', '2', '4']\n",
    "\n",
    "clusters_G = onesc.construct_cluster_network(train_exp, samp_tab, initial_clusters = initial_clusters, terminal_clusters = end_clusters, cluster_col = \"leiden\", pseudo_col = pt_col)\n",
    "pickle.dump(clusters_G, open(os.path.join(output_path, 'clusters_G.pickle'), 'wb'))"
   ]
  },
  {
   "cell_type": "code",
   "execution_count": 24,
   "id": "00402cbf-4c69-4814-947a-c4cb85307de2",
   "metadata": {},
   "outputs": [],
   "source": [
    "# this is for mCAD\n",
    "output_path = '../Beeline_benchmark/run_OneSC/mCAD'\n",
    "sc.settings.figdir = output_path # set the figure output path\n",
    "adata = sc.read_h5ad(\"../Beeline_benchmark/run_OneSC/mCAD/redefined_adata.h5ad\")\n",
    "train_exp = adata.to_df().T\n",
    "samp_tab = adata.obs"
   ]
  },
  {
   "cell_type": "code",
   "execution_count": 25,
   "id": "cd16038c-ddea-414d-8e9a-161af7fee14b",
   "metadata": {},
   "outputs": [],
   "source": [
    "initial_clusters = ['5']\n",
    "end_clusters = ['1', '0']\n",
    "\n",
    "clusters_G = onesc.construct_cluster_network(train_exp, samp_tab, initial_clusters = initial_clusters, terminal_clusters = end_clusters, cluster_col = \"leiden\", pseudo_col = pt_col)\n",
    "pickle.dump(clusters_G, open(os.path.join(output_path, 'clusters_G.pickle'), 'wb'))"
   ]
  },
  {
   "cell_type": "code",
   "execution_count": 26,
   "id": "6e7b2a9f-a1f8-40aa-9e2c-9f6daaa87ec5",
   "metadata": {},
   "outputs": [],
   "source": [
    "# this is for VSC\n",
    "output_path = '../Beeline_benchmark/run_OneSC/VSC'\n",
    "sc.settings.figdir = output_path # set the figure output path\n",
    "adata = sc.read_h5ad(\"../Beeline_benchmark/run_OneSC/VSC/redefined_adata.h5ad\")\n",
    "train_exp = adata.to_df().T\n",
    "samp_tab = adata.obs"
   ]
  },
  {
   "cell_type": "code",
   "execution_count": 27,
   "id": "811330e8-0e3e-49ec-81b0-1e9e104e483a",
   "metadata": {},
   "outputs": [],
   "source": [
    "initial_clusters = ['3']\n",
    "end_clusters = ['0', '1', '2', '4', '5']\n",
    "\n",
    "clusters_G = onesc.construct_cluster_network(train_exp, samp_tab, initial_clusters = initial_clusters, terminal_clusters = end_clusters, cluster_col = \"leiden\", pseudo_col = pt_col)\n",
    "pickle.dump(clusters_G, open(os.path.join(output_path, 'clusters_G.pickle'), 'wb'))"
   ]
  },
  {
   "cell_type": "code",
   "execution_count": null,
   "id": "c774ca59-d0f0-4113-8ff2-b675dd042705",
   "metadata": {},
   "outputs": [],
   "source": []
  }
 ],
 "metadata": {
  "kernelspec": {
   "display_name": "Python 3 (ipykernel)",
   "language": "python",
   "name": "python3"
  },
  "language_info": {
   "codemirror_mode": {
    "name": "ipython",
    "version": 3
   },
   "file_extension": ".py",
   "mimetype": "text/x-python",
   "name": "python",
   "nbconvert_exporter": "python",
   "pygments_lexer": "ipython3",
   "version": "3.9.12"
  }
 },
 "nbformat": 4,
 "nbformat_minor": 5
}
